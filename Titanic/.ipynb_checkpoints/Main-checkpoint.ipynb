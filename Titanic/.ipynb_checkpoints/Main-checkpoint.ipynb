{
 "cells": [
  {
   "cell_type": "markdown",
   "id": "c63df2ab-c631-46eb-a6d6-ef9342371909",
   "metadata": {},
   "source": [
    "# Titanic"
   ]
  },
  {
   "cell_type": "markdown",
   "id": "20372b07-7a83-4ac4-9b39-dadb58a2591d",
   "metadata": {},
   "source": [
    "Overview\\\n",
    "The data has been split into two groups:\n",
    "\n",
    "training set (train.csv)\\\n",
    "test set (test.csv)\\\n",
    "The training set should be used to build your machine learning models. For the training set, we provide the outcome (also known as the “ground truth”) for each passenger. Your model will be based on “features” like passengers’ gender and class. You can also use feature engineering to create new features.\n",
    "\n",
    "The test set should be used to see how well your model performs on unseen data. For the test set, we do not provide the ground truth for each passenger. It is your job to predict these outcomes. For each passenger in the test set, use the model you trained to predict whether or not they survived the sinking of the Titanic.\n",
    "\n",
    "We also include gender_submission.csv, a set of predictions that assume all and only female passengers survive, as an example of what a submission file should look like.\n",
    "\n",
    "Data Dictionary\n",
    "____________________________\n",
    "Variable\tDefinition\tKey\\\n",
    "survival\tSurvival\t0 = No, 1 = Yes\\\n",
    "pclass\tTicket class\t1 = 1st, 2 = 2nd, 3 = 3rd\\\n",
    "sex\tSex\t\\\n",
    "Age\tAge in years\t\\\n",
    "sibsp\t# of siblings / spouses aboard the Titanic\t\\\n",
    "parch\t# of parents / children aboard the Titanic\t\\\n",
    "ticket\tTicket number\t\\\n",
    "fare\tPassenger fare\t\\\n",
    "cabin\tCabin number\t\\\n",
    "embarked\tPort of Embarkation\tC = Cherbourg, Q = Queenstown, S = Southampton\\\n",
    "___________________________________\n",
    "Variable Notes\\\n",
    "pclass: A proxy for socio-economic status (SES)\\\n",
    "1st = Upper\\\n",
    "2nd = Middle\\\n",
    "3rd = Lower\\\n",
    "\n",
    "age: Age is fractional if less than 1. If the age is estimated, is it in the form of xx.5\\\n",
    "\n",
    "sibsp: The dataset defines family relations in this way...\\\n",
    "Sibling = brother, sister, stepbrother, stepsister\\\n",
    "Spouse = husband, wife (mistresses and fiancés were ignored)\\\n",
    "\n",
    "parch: The dataset defines family relations in this way...\\\n",
    "Parent = mother, father\\\n",
    "Child = daughter, son, stepdaughter, stepson\\\n",
    "Some children travelled only with a nanny, therefore parch=0 for them.\\\n"
   ]
  },
  {
   "cell_type": "code",
   "execution_count": 58,
   "id": "45c89dfc-0f2e-4610-8416-dcd232d2d6c0",
   "metadata": {},
   "outputs": [],
   "source": [
    "import pandas as pd\n",
    "from pandas import get_dummies\n",
    "import seaborn as sns\n",
    "from sklearn.model_selection import train_test_split, cross_val_score\n",
    "from sklearn.linear_model import LogisticRegression\n",
    "from sklearn.preprocessing import StandardScaler, MinMaxScaler, MaxAbsScaler\n",
    "from sklearn.metrics import accuracy_score, classification_report, confusion_matrix\n",
    "from sklearn.pipeline import make_pipeline\n",
    "from sklearn.tree import DecisionTreeClassifier\n",
    "from sklearn.ensemble import RandomForestClassifier, GradientBoostingClassifier"
   ]
  },
  {
   "cell_type": "markdown",
   "id": "8f254c32-564d-47eb-8a87-8d3b8e809460",
   "metadata": {},
   "source": [
    "## Load Data"
   ]
  },
  {
   "cell_type": "code",
   "execution_count": 2,
   "id": "d03d0fa2-14f4-4733-8637-2c8f6c81789d",
   "metadata": {
    "tags": []
   },
   "outputs": [],
   "source": [
    "raw_train = pd.read_csv('train.csv')\n",
    "raw_test = pd.read_csv('test.csv')"
   ]
  },
  {
   "cell_type": "code",
   "execution_count": 3,
   "id": "fb8bcb07-37f7-4a4f-a91d-291e0fb693af",
   "metadata": {},
   "outputs": [],
   "source": [
    "raw_train.head()\n",
    "shapeTrain,shapeTest = raw_train.shape,raw_test.shape"
   ]
  },
  {
   "cell_type": "code",
   "execution_count": 4,
   "id": "46526b66-5644-437d-9be0-d7d9b44e66e9",
   "metadata": {},
   "outputs": [
    {
     "name": "stdout",
     "output_type": "stream",
     "text": [
      "Shape of training data: (891, 12) Shape of testing data: (418, 11)\n"
     ]
    },
    {
     "data": {
      "text/html": [
       "<div>\n",
       "<style scoped>\n",
       "    .dataframe tbody tr th:only-of-type {\n",
       "        vertical-align: middle;\n",
       "    }\n",
       "\n",
       "    .dataframe tbody tr th {\n",
       "        vertical-align: top;\n",
       "    }\n",
       "\n",
       "    .dataframe thead th {\n",
       "        text-align: right;\n",
       "    }\n",
       "</style>\n",
       "<table border=\"1\" class=\"dataframe\">\n",
       "  <thead>\n",
       "    <tr style=\"text-align: right;\">\n",
       "      <th></th>\n",
       "      <th>PassengerId</th>\n",
       "      <th>Pclass</th>\n",
       "      <th>Name</th>\n",
       "      <th>Sex</th>\n",
       "      <th>Age</th>\n",
       "      <th>SibSp</th>\n",
       "      <th>Parch</th>\n",
       "      <th>Ticket</th>\n",
       "      <th>Fare</th>\n",
       "      <th>Cabin</th>\n",
       "      <th>Embarked</th>\n",
       "    </tr>\n",
       "  </thead>\n",
       "  <tbody>\n",
       "    <tr>\n",
       "      <th>0</th>\n",
       "      <td>1</td>\n",
       "      <td>3</td>\n",
       "      <td>Braund, Mr. Owen Harris</td>\n",
       "      <td>male</td>\n",
       "      <td>22.0</td>\n",
       "      <td>1</td>\n",
       "      <td>0</td>\n",
       "      <td>A/5 21171</td>\n",
       "      <td>7.2500</td>\n",
       "      <td>NaN</td>\n",
       "      <td>S</td>\n",
       "    </tr>\n",
       "    <tr>\n",
       "      <th>1</th>\n",
       "      <td>2</td>\n",
       "      <td>1</td>\n",
       "      <td>Cumings, Mrs. John Bradley (Florence Briggs Th...</td>\n",
       "      <td>female</td>\n",
       "      <td>38.0</td>\n",
       "      <td>1</td>\n",
       "      <td>0</td>\n",
       "      <td>PC 17599</td>\n",
       "      <td>71.2833</td>\n",
       "      <td>C85</td>\n",
       "      <td>C</td>\n",
       "    </tr>\n",
       "    <tr>\n",
       "      <th>2</th>\n",
       "      <td>3</td>\n",
       "      <td>3</td>\n",
       "      <td>Heikkinen, Miss. Laina</td>\n",
       "      <td>female</td>\n",
       "      <td>26.0</td>\n",
       "      <td>0</td>\n",
       "      <td>0</td>\n",
       "      <td>STON/O2. 3101282</td>\n",
       "      <td>7.9250</td>\n",
       "      <td>NaN</td>\n",
       "      <td>S</td>\n",
       "    </tr>\n",
       "    <tr>\n",
       "      <th>3</th>\n",
       "      <td>4</td>\n",
       "      <td>1</td>\n",
       "      <td>Futrelle, Mrs. Jacques Heath (Lily May Peel)</td>\n",
       "      <td>female</td>\n",
       "      <td>35.0</td>\n",
       "      <td>1</td>\n",
       "      <td>0</td>\n",
       "      <td>113803</td>\n",
       "      <td>53.1000</td>\n",
       "      <td>C123</td>\n",
       "      <td>S</td>\n",
       "    </tr>\n",
       "    <tr>\n",
       "      <th>4</th>\n",
       "      <td>5</td>\n",
       "      <td>3</td>\n",
       "      <td>Allen, Mr. William Henry</td>\n",
       "      <td>male</td>\n",
       "      <td>35.0</td>\n",
       "      <td>0</td>\n",
       "      <td>0</td>\n",
       "      <td>373450</td>\n",
       "      <td>8.0500</td>\n",
       "      <td>NaN</td>\n",
       "      <td>S</td>\n",
       "    </tr>\n",
       "  </tbody>\n",
       "</table>\n",
       "</div>"
      ],
      "text/plain": [
       "   PassengerId  Pclass                                               Name  \\\n",
       "0            1       3                            Braund, Mr. Owen Harris   \n",
       "1            2       1  Cumings, Mrs. John Bradley (Florence Briggs Th...   \n",
       "2            3       3                             Heikkinen, Miss. Laina   \n",
       "3            4       1       Futrelle, Mrs. Jacques Heath (Lily May Peel)   \n",
       "4            5       3                           Allen, Mr. William Henry   \n",
       "\n",
       "      Sex   Age  SibSp  Parch            Ticket     Fare Cabin Embarked  \n",
       "0    male  22.0      1      0         A/5 21171   7.2500   NaN        S  \n",
       "1  female  38.0      1      0          PC 17599  71.2833   C85        C  \n",
       "2  female  26.0      0      0  STON/O2. 3101282   7.9250   NaN        S  \n",
       "3  female  35.0      1      0            113803  53.1000  C123        S  \n",
       "4    male  35.0      0      0            373450   8.0500   NaN        S  "
      ]
     },
     "execution_count": 4,
     "metadata": {},
     "output_type": "execute_result"
    }
   ],
   "source": [
    "X_concat = pd.concat([raw_train.drop(columns=['Survived']),raw_test])\n",
    "shapeTotal = X_concat.shape\n",
    "print('Shape of training data:',shapeTrain,'Shape of testing data:',shapeTest)\n",
    "X_concat.head()"
   ]
  },
  {
   "cell_type": "markdown",
   "id": "d804200b-ca66-4823-9efe-f93384e51b94",
   "metadata": {},
   "source": [
    "## Preprocessing"
   ]
  },
  {
   "cell_type": "markdown",
   "id": "dfe16e53-9931-496f-a807-be612362c153",
   "metadata": {},
   "source": [
    "### Check NaN values"
   ]
  },
  {
   "cell_type": "code",
   "execution_count": 5,
   "id": "9d30b88d-902a-45ce-8a57-b2a5347334c3",
   "metadata": {},
   "outputs": [
    {
     "data": {
      "text/plain": [
       "PassengerId       0\n",
       "Pclass            0\n",
       "Name              0\n",
       "Sex               0\n",
       "Age             263\n",
       "SibSp             0\n",
       "Parch             0\n",
       "Ticket            0\n",
       "Fare              1\n",
       "Cabin          1014\n",
       "Embarked          2\n",
       "dtype: int64"
      ]
     },
     "execution_count": 5,
     "metadata": {},
     "output_type": "execute_result"
    }
   ],
   "source": [
    "X_concat.isna().sum()"
   ]
  },
  {
   "cell_type": "code",
   "execution_count": 6,
   "id": "31312621-9a96-44d9-8feb-c6b41ba6f799",
   "metadata": {},
   "outputs": [
    {
     "data": {
      "text/plain": [
       "PassengerId    0\n",
       "Pclass         0\n",
       "Name           0\n",
       "Sex            0\n",
       "Age            0\n",
       "SibSp          0\n",
       "Parch          0\n",
       "Ticket         0\n",
       "Fare           0\n",
       "Cabin          0\n",
       "Embarked       0\n",
       "dtype: int64"
      ]
     },
     "execution_count": 6,
     "metadata": {},
     "output_type": "execute_result"
    }
   ],
   "source": [
    "X_concat['Age'] = X_concat['Age'].fillna(0)\n",
    "X_concat['Cabin'] = X_concat['Cabin'].fillna('NAN')\n",
    "X_concat['Embarked'] = X_concat['Embarked'].fillna('NAN')\n",
    "X_concat['Fare'] = X_concat['Fare'].fillna(999)\n",
    "X_concat.isna().sum()"
   ]
  },
  {
   "cell_type": "code",
   "execution_count": 7,
   "id": "98402b52-5a76-421e-a68b-0bd941cb4126",
   "metadata": {},
   "outputs": [],
   "source": [
    "def agecheck(age):\n",
    "    if age <= 5:\n",
    "        return(0)\n",
    "    #'kid'\n",
    "    elif age<= 17:\n",
    "        return(1)\n",
    "    #'teen'\n",
    "    elif age <= 50:\n",
    "        return(2)\n",
    "    #'adult'\n",
    "    elif age <= 65:\n",
    "        return(1)\n",
    "    #'old'\n",
    "    else:\n",
    "        return(0)\n",
    "    #'very old'\n",
    "def cabinencode(cabin):\n",
    "    if 'NAN' not in cabin:\n",
    "        return 1\n",
    "    else:\n",
    "        return 0\n",
    "X_concat['AgeClass'] = X_concat['Age'].apply(agecheck)\n",
    "X_concat['CabinYN'] = X_concat['Cabin'].apply(cabinencode)"
   ]
  },
  {
   "cell_type": "code",
   "execution_count": 8,
   "id": "6bb85628-ea89-431a-84da-df5dce00795e",
   "metadata": {},
   "outputs": [],
   "source": [
    "df = X_concat[:shapeTrain[0]]"
   ]
  },
  {
   "cell_type": "code",
   "execution_count": 9,
   "id": "83718d9a-cc16-42b2-bc96-3c1ee12bb707",
   "metadata": {},
   "outputs": [
    {
     "name": "stdout",
     "output_type": "stream",
     "text": [
      "PassengerId   -0.005007\n",
      "Pclass        -0.338481\n",
      "Age            0.010539\n",
      "SibSp         -0.035322\n",
      "Parch          0.081629\n",
      "Fare           0.257307\n",
      "AgeClass       0.012816\n",
      "CabinYN        0.316912\n",
      "R              1.000000\n",
      "Name: R, dtype: float64\n"
     ]
    },
    {
     "data": {
      "image/png": "[encoded data removed]",
      "text/plain": [
       "<Figure size 640x480 with 2 Axes>"
      ]
     },
     "metadata": {},
     "output_type": "display_data"
    }
   ],
   "source": [
    "dfvis = df.copy()\n",
    "dfvis['R'] = raw_train['Survived']\n",
    "sns.heatmap(dfvis.corr(),cmap = 'plasma')\n",
    "print(dfvis.corr()['R'])\n",
    "# df = df.dropna()"
   ]
  },
  {
   "cell_type": "code",
   "execution_count": 60,
   "id": "d87bd683-0bb7-4fab-8372-86228cfbbe85",
   "metadata": {},
   "outputs": [],
   "source": [
    "# X,Y = df.drop(columns = ['Cabin','PassengerId','Ticket','Sex','Parch','SibSp','Name','Embarked']),raw_train['Survived']\n",
    "X,Y = pd.get_dummies(df),raw_train['Survived']\n",
    "X.head()\n",
    "# scaler = preprocessing.StandardScaler().fit(X)\n",
    "# X = scaler.transform(X)\n",
    "# print(X)\n",
    "X_train, X_test, y_train, y_test = train_test_split(X, Y, test_size=0.25)"
   ]
  },
  {
   "cell_type": "code",
   "execution_count": 68,
   "id": "283eed01-045f-41bf-8240-5132cfc31af5",
   "metadata": {},
   "outputs": [
    {
     "name": "stdout",
     "output_type": "stream",
     "text": [
      "[[123  15]\n",
      " [ 37  48]]\n",
      "              precision    recall  f1-score   support\n",
      "\n",
      "           0       0.77      0.89      0.83       138\n",
      "           1       0.76      0.56      0.65        85\n",
      "\n",
      "    accuracy                           0.77       223\n",
      "   macro avg       0.77      0.73      0.74       223\n",
      "weighted avg       0.77      0.77      0.76       223\n",
      "\n",
      "0.82 accuracy with a standard deviation of 0.02\n"
     ]
    }
   ],
   "source": [
    "pipe = make_pipeline(\n",
    "                    StandardScaler(),\n",
    "                    # MinMaxScaler(),\n",
    "                    # MaxAbsScaler(),\n",
    "                    # LogisticRegression(),\n",
    "                    RandomForestClassifier(),\n",
    "                    # DecisionTreeClassifier()\n",
    "                    )\n",
    "pipe.fit(X_train,y_train)\n",
    "print(confusion_matrix(y_test,pipe.predict(X_test)))\n",
    "print(classification_report(y_test,pipe.predict(X_test)))\n",
    "scores = cross_val_score(pipe,X,Y,cv = 5)\n",
    "print(\"%0.2f accuracy with a standard deviation of %0.2f\" % (scores.mean(), scores.std()))"
   ]
  },
  {
   "cell_type": "code",
   "execution_count": 65,
   "id": "a3fa1639-5cfb-461e-bca6-a8d172d88a56",
   "metadata": {},
   "outputs": [
    {
     "name": "stdout",
     "output_type": "stream",
     "text": [
      "[[125  13]\n",
      " [ 50  35]]\n",
      "              precision    recall  f1-score   support\n",
      "\n",
      "           0       0.71      0.91      0.80       138\n",
      "           1       0.73      0.41      0.53        85\n",
      "\n",
      "    accuracy                           0.72       223\n",
      "   macro avg       0.72      0.66      0.66       223\n",
      "weighted avg       0.72      0.72      0.69       223\n",
      "\n",
      "0.78 accuracy with a standard deviation of 0.02\n"
     ]
    }
   ],
   "source": [
    "pipe = make_pipeline(\n",
    "                    StandardScaler(),\n",
    "                    # MinMaxScaler(),\n",
    "                    # MaxAbsScaler(),\n",
    "                    LogisticRegression(),\n",
    "                    # RandomForestClassifier(),\n",
    "                    # DecisionTreeClassifier()\n",
    "                    )\n",
    "pipe.fit(X_train,y_train)\n",
    "print(confusion_matrix(y_test,pipe.predict(X_test)))\n",
    "print(classification_report(y_test,pipe.predict(X_test)))\n",
    "scores = cross_val_score(pipe,X,Y,cv = 5)\n",
    "print(\"%0.2f accuracy with a standard deviation of %0.2f\" % (scores.mean(), scores.std()))"
   ]
  },
  {
   "cell_type": "code",
   "execution_count": 66,
   "id": "998937fa-4e69-4c46-9bac-5c9eebb4f0ab",
   "metadata": {},
   "outputs": [
    {
     "name": "stdout",
     "output_type": "stream",
     "text": [
      "[[120  18]\n",
      " [ 23  62]]\n",
      "              precision    recall  f1-score   support\n",
      "\n",
      "           0       0.84      0.87      0.85       138\n",
      "           1       0.78      0.73      0.75        85\n",
      "\n",
      "    accuracy                           0.82       223\n",
      "   macro avg       0.81      0.80      0.80       223\n",
      "weighted avg       0.81      0.82      0.81       223\n",
      "\n",
      "0.79 accuracy with a standard deviation of 0.06\n"
     ]
    }
   ],
   "source": [
    "pipe = make_pipeline(\n",
    "                    StandardScaler(),\n",
    "                    # MinMaxScaler(),\n",
    "                    # MaxAbsScaler(),\n",
    "                    # LogisticRegression(),\n",
    "                    # RandomForestClassifier(),\n",
    "                    DecisionTreeClassifier()\n",
    "                    )\n",
    "pipe.fit(X_train,y_train)\n",
    "print(confusion_matrix(y_test,pipe.predict(X_test)))\n",
    "print(classification_report(y_test,pipe.predict(X_test)))\n",
    "scores = cross_val_score(pipe,X,Y,cv = 5)\n",
    "print(\"%0.2f accuracy with a standard deviation of %0.2f\" % (scores.mean(), scores.std()))"
   ]
  },
  {
   "cell_type": "code",
   "execution_count": 67,
   "id": "6d014e9e-37cc-4b2d-8679-dfd76c401726",
   "metadata": {},
   "outputs": [
    {
     "name": "stdout",
     "output_type": "stream",
     "text": [
      "[[123  15]\n",
      " [ 35  50]]\n",
      "              precision    recall  f1-score   support\n",
      "\n",
      "           0       0.78      0.89      0.83       138\n",
      "           1       0.77      0.59      0.67        85\n",
      "\n",
      "    accuracy                           0.78       223\n",
      "   macro avg       0.77      0.74      0.75       223\n",
      "weighted avg       0.77      0.78      0.77       223\n",
      "\n",
      "0.77 accuracy with a standard deviation of 0.08\n"
     ]
    }
   ],
   "source": [
    "pipe = make_pipeline(\n",
    "                    StandardScaler(),\n",
    "                    # MinMaxScaler(),\n",
    "                    # MaxAbsScaler(),\n",
    "                    # LogisticRegression(),\n",
    "                    # RandomForestClassifier(),\n",
    "                    # DecisionTreeClassifier(),\n",
    "                    GradientBoostingClassifier()\n",
    "                    )\n",
    "pipe.fit(X_train,y_train)\n",
    "print(confusion_matrix(y_test,pipe.predict(X_test)))\n",
    "print(classification_report(y_test,pipe.predict(X_test)))\n",
    "scores = cross_val_score(pipe,X,Y,cv = 5)\n",
    "print(\"%0.2f accuracy with a standard deviation of %0.2f\" % (scores.mean(), scores.std()))"
   ]
  },
  {
   "cell_type": "code",
   "execution_count": 70,
   "id": "24853606-c046-480f-a59e-46c444bb2086",
   "metadata": {},
   "outputs": [
    {
     "ename": "ValueError",
     "evalue": "X has 871 features, but StandardScaler is expecting 1734 features as input.",
     "output_type": "error",
     "traceback": [
      "\u001b[0;31m---------------------------------------------------------------------------\u001b[0m",
      "\u001b[0;31mValueError\u001b[0m                                Traceback (most recent call last)",
      "Input \u001b[0;32mIn [70]\u001b[0m, in \u001b[0;36m<cell line: 1>\u001b[0;34m()\u001b[0m\n\u001b[0;32m----> 1\u001b[0m survived \u001b[38;5;241m=\u001b[39m \u001b[43mpipe\u001b[49m\u001b[38;5;241;43m.\u001b[39;49m\u001b[43mpredict\u001b[49m\u001b[43m(\u001b[49m\u001b[43mpd\u001b[49m\u001b[38;5;241;43m.\u001b[39;49m\u001b[43mget_dummies\u001b[49m\u001b[43m(\u001b[49m\u001b[43mX_concat\u001b[49m\u001b[43m[\u001b[49m\u001b[43mshapeTrain\u001b[49m\u001b[43m[\u001b[49m\u001b[38;5;241;43m0\u001b[39;49m\u001b[43m]\u001b[49m\u001b[43m:\u001b[49m\u001b[43m]\u001b[49m\u001b[43m)\u001b[49m\u001b[43m)\u001b[49m\n\u001b[1;32m      2\u001b[0m PassengerId \u001b[38;5;241m=\u001b[39m X_concat[shapeTrain[\u001b[38;5;241m0\u001b[39m]:][\u001b[38;5;124m'\u001b[39m\u001b[38;5;124mPassengerId\u001b[39m\u001b[38;5;124m'\u001b[39m]\n\u001b[1;32m      3\u001b[0m datadict \u001b[38;5;241m=\u001b[39m {\u001b[38;5;124m'\u001b[39m\u001b[38;5;124mPassengerId\u001b[39m\u001b[38;5;124m'\u001b[39m:PassengerId,\u001b[38;5;124m'\u001b[39m\u001b[38;5;124mSurvived\u001b[39m\u001b[38;5;124m'\u001b[39m:survived}\n",
      "File \u001b[0;32m/usr/local/lib/python3.8/dist-packages/scikit_learn-0.24.1-py3.8-linux-x86_64.egg/sklearn/utils/metaestimators.py:120\u001b[0m, in \u001b[0;36m_IffHasAttrDescriptor.__get__.<locals>.<lambda>\u001b[0;34m(*args, **kwargs)\u001b[0m\n\u001b[1;32m    117\u001b[0m         attrgetter(\u001b[38;5;28mself\u001b[39m\u001b[38;5;241m.\u001b[39mdelegate_names[\u001b[38;5;241m-\u001b[39m\u001b[38;5;241m1\u001b[39m])(obj)\n\u001b[1;32m    119\u001b[0m \u001b[38;5;66;03m# lambda, but not partial, allows help() to work with update_wrapper\u001b[39;00m\n\u001b[0;32m--> 120\u001b[0m out \u001b[38;5;241m=\u001b[39m \u001b[38;5;28;01mlambda\u001b[39;00m \u001b[38;5;241m*\u001b[39margs, \u001b[38;5;241m*\u001b[39m\u001b[38;5;241m*\u001b[39mkwargs: \u001b[38;5;28;43mself\u001b[39;49m\u001b[38;5;241;43m.\u001b[39;49m\u001b[43mfn\u001b[49m\u001b[43m(\u001b[49m\u001b[43mobj\u001b[49m\u001b[43m,\u001b[49m\u001b[43m \u001b[49m\u001b[38;5;241;43m*\u001b[39;49m\u001b[43margs\u001b[49m\u001b[43m,\u001b[49m\u001b[43m \u001b[49m\u001b[38;5;241;43m*\u001b[39;49m\u001b[38;5;241;43m*\u001b[39;49m\u001b[43mkwargs\u001b[49m\u001b[43m)\u001b[49m\n\u001b[1;32m    121\u001b[0m \u001b[38;5;66;03m# update the docstring of the returned function\u001b[39;00m\n\u001b[1;32m    122\u001b[0m update_wrapper(out, \u001b[38;5;28mself\u001b[39m\u001b[38;5;241m.\u001b[39mfn)\n",
      "File \u001b[0;32m/usr/local/lib/python3.8/dist-packages/scikit_learn-0.24.1-py3.8-linux-x86_64.egg/sklearn/pipeline.py:418\u001b[0m, in \u001b[0;36mPipeline.predict\u001b[0;34m(self, X, **predict_params)\u001b[0m\n\u001b[1;32m    416\u001b[0m Xt \u001b[38;5;241m=\u001b[39m X\n\u001b[1;32m    417\u001b[0m \u001b[38;5;28;01mfor\u001b[39;00m _, name, transform \u001b[38;5;129;01min\u001b[39;00m \u001b[38;5;28mself\u001b[39m\u001b[38;5;241m.\u001b[39m_iter(with_final\u001b[38;5;241m=\u001b[39m\u001b[38;5;28;01mFalse\u001b[39;00m):\n\u001b[0;32m--> 418\u001b[0m     Xt \u001b[38;5;241m=\u001b[39m \u001b[43mtransform\u001b[49m\u001b[38;5;241;43m.\u001b[39;49m\u001b[43mtransform\u001b[49m\u001b[43m(\u001b[49m\u001b[43mXt\u001b[49m\u001b[43m)\u001b[49m\n\u001b[1;32m    419\u001b[0m \u001b[38;5;28;01mreturn\u001b[39;00m \u001b[38;5;28mself\u001b[39m\u001b[38;5;241m.\u001b[39msteps[\u001b[38;5;241m-\u001b[39m\u001b[38;5;241m1\u001b[39m][\u001b[38;5;241m-\u001b[39m\u001b[38;5;241m1\u001b[39m]\u001b[38;5;241m.\u001b[39mpredict(Xt, \u001b[38;5;241m*\u001b[39m\u001b[38;5;241m*\u001b[39mpredict_params)\n",
      "File \u001b[0;32m/usr/local/lib/python3.8/dist-packages/scikit_learn-0.24.1-py3.8-linux-x86_64.egg/sklearn/preprocessing/_data.py:883\u001b[0m, in \u001b[0;36mStandardScaler.transform\u001b[0;34m(self, X, copy)\u001b[0m\n\u001b[1;32m    880\u001b[0m check_is_fitted(\u001b[38;5;28mself\u001b[39m)\n\u001b[1;32m    882\u001b[0m copy \u001b[38;5;241m=\u001b[39m copy \u001b[38;5;28;01mif\u001b[39;00m copy \u001b[38;5;129;01mis\u001b[39;00m \u001b[38;5;129;01mnot\u001b[39;00m \u001b[38;5;28;01mNone\u001b[39;00m \u001b[38;5;28;01melse\u001b[39;00m \u001b[38;5;28mself\u001b[39m\u001b[38;5;241m.\u001b[39mcopy\n\u001b[0;32m--> 883\u001b[0m X \u001b[38;5;241m=\u001b[39m \u001b[38;5;28;43mself\u001b[39;49m\u001b[38;5;241;43m.\u001b[39;49m\u001b[43m_validate_data\u001b[49m\u001b[43m(\u001b[49m\u001b[43mX\u001b[49m\u001b[43m,\u001b[49m\u001b[43m \u001b[49m\u001b[43mreset\u001b[49m\u001b[38;5;241;43m=\u001b[39;49m\u001b[38;5;28;43;01mFalse\u001b[39;49;00m\u001b[43m,\u001b[49m\n\u001b[1;32m    884\u001b[0m \u001b[43m                        \u001b[49m\u001b[43maccept_sparse\u001b[49m\u001b[38;5;241;43m=\u001b[39;49m\u001b[38;5;124;43m'\u001b[39;49m\u001b[38;5;124;43mcsr\u001b[39;49m\u001b[38;5;124;43m'\u001b[39;49m\u001b[43m,\u001b[49m\u001b[43m \u001b[49m\u001b[43mcopy\u001b[49m\u001b[38;5;241;43m=\u001b[39;49m\u001b[43mcopy\u001b[49m\u001b[43m,\u001b[49m\n\u001b[1;32m    885\u001b[0m \u001b[43m                        \u001b[49m\u001b[43mestimator\u001b[49m\u001b[38;5;241;43m=\u001b[39;49m\u001b[38;5;28;43mself\u001b[39;49m\u001b[43m,\u001b[49m\u001b[43m \u001b[49m\u001b[43mdtype\u001b[49m\u001b[38;5;241;43m=\u001b[39;49m\u001b[43mFLOAT_DTYPES\u001b[49m\u001b[43m,\u001b[49m\n\u001b[1;32m    886\u001b[0m \u001b[43m                        \u001b[49m\u001b[43mforce_all_finite\u001b[49m\u001b[38;5;241;43m=\u001b[39;49m\u001b[38;5;124;43m'\u001b[39;49m\u001b[38;5;124;43mallow-nan\u001b[39;49m\u001b[38;5;124;43m'\u001b[39;49m\u001b[43m)\u001b[49m\n\u001b[1;32m    888\u001b[0m \u001b[38;5;28;01mif\u001b[39;00m sparse\u001b[38;5;241m.\u001b[39missparse(X):\n\u001b[1;32m    889\u001b[0m     \u001b[38;5;28;01mif\u001b[39;00m \u001b[38;5;28mself\u001b[39m\u001b[38;5;241m.\u001b[39mwith_mean:\n",
      "File \u001b[0;32m/usr/local/lib/python3.8/dist-packages/scikit_learn-0.24.1-py3.8-linux-x86_64.egg/sklearn/base.py:437\u001b[0m, in \u001b[0;36mBaseEstimator._validate_data\u001b[0;34m(self, X, y, reset, validate_separately, **check_params)\u001b[0m\n\u001b[1;32m    434\u001b[0m     out \u001b[38;5;241m=\u001b[39m X, y\n\u001b[1;32m    436\u001b[0m \u001b[38;5;28;01mif\u001b[39;00m check_params\u001b[38;5;241m.\u001b[39mget(\u001b[38;5;124m'\u001b[39m\u001b[38;5;124mensure_2d\u001b[39m\u001b[38;5;124m'\u001b[39m, \u001b[38;5;28;01mTrue\u001b[39;00m):\n\u001b[0;32m--> 437\u001b[0m     \u001b[38;5;28;43mself\u001b[39;49m\u001b[38;5;241;43m.\u001b[39;49m\u001b[43m_check_n_features\u001b[49m\u001b[43m(\u001b[49m\u001b[43mX\u001b[49m\u001b[43m,\u001b[49m\u001b[43m \u001b[49m\u001b[43mreset\u001b[49m\u001b[38;5;241;43m=\u001b[39;49m\u001b[43mreset\u001b[49m\u001b[43m)\u001b[49m\n\u001b[1;32m    439\u001b[0m \u001b[38;5;28;01mreturn\u001b[39;00m out\n",
      "File \u001b[0;32m/usr/local/lib/python3.8/dist-packages/scikit_learn-0.24.1-py3.8-linux-x86_64.egg/sklearn/base.py:365\u001b[0m, in \u001b[0;36mBaseEstimator._check_n_features\u001b[0;34m(self, X, reset)\u001b[0m\n\u001b[1;32m    362\u001b[0m     \u001b[38;5;28;01mreturn\u001b[39;00m\n\u001b[1;32m    364\u001b[0m \u001b[38;5;28;01mif\u001b[39;00m n_features \u001b[38;5;241m!=\u001b[39m \u001b[38;5;28mself\u001b[39m\u001b[38;5;241m.\u001b[39mn_features_in_:\n\u001b[0;32m--> 365\u001b[0m     \u001b[38;5;28;01mraise\u001b[39;00m \u001b[38;5;167;01mValueError\u001b[39;00m(\n\u001b[1;32m    366\u001b[0m         \u001b[38;5;124mf\u001b[39m\u001b[38;5;124m\"\u001b[39m\u001b[38;5;124mX has \u001b[39m\u001b[38;5;132;01m{\u001b[39;00mn_features\u001b[38;5;132;01m}\u001b[39;00m\u001b[38;5;124m features, but \u001b[39m\u001b[38;5;132;01m{\u001b[39;00m\u001b[38;5;28mself\u001b[39m\u001b[38;5;241m.\u001b[39m\u001b[38;5;18m__class__\u001b[39m\u001b[38;5;241m.\u001b[39m\u001b[38;5;18m__name__\u001b[39m\u001b[38;5;132;01m}\u001b[39;00m\u001b[38;5;124m \u001b[39m\u001b[38;5;124m\"\u001b[39m\n\u001b[1;32m    367\u001b[0m         \u001b[38;5;124mf\u001b[39m\u001b[38;5;124m\"\u001b[39m\u001b[38;5;124mis expecting \u001b[39m\u001b[38;5;132;01m{\u001b[39;00m\u001b[38;5;28mself\u001b[39m\u001b[38;5;241m.\u001b[39mn_features_in_\u001b[38;5;132;01m}\u001b[39;00m\u001b[38;5;124m features as input.\u001b[39m\u001b[38;5;124m\"\u001b[39m)\n",
      "\u001b[0;31mValueError\u001b[0m: X has 871 features, but StandardScaler is expecting 1734 features as input."
     ]
    }
   ],
   "source": [
    "survived = pipe.predict(pd.get_dummies(X_concat[shapeTrain[0]:]))\n",
    "PassengerId = X_concat[shapeTrain[0]:]['PassengerId']\n",
    "datadict = {'PassengerId':PassengerId,'Survived':survived}\n",
    "submission = pd.DataFrame(data = datadict)\n",
    "submission.head()\n",
    "submission.to_csv('Submission.csv',index=False)"
   ]
  },
  {
   "cell_type": "code",
   "execution_count": null,
   "id": "952e9055-c39f-49b6-9945-df264fa83f2f",
   "metadata": {},
   "outputs": [],
   "source": []
  }
 ],
 "metadata": {
  "kernelspec": {
   "display_name": "Python 3 (ipykernel)",
   "language": "python",
   "name": "python3"
  },
  "language_info": {
   "codemirror_mode": {
    "name": "ipython",
    "version": 3
   },
   "file_extension": ".py",
   "mimetype": "text/x-python",
   "name": "python",
   "nbconvert_exporter": "python",
   "pygments_lexer": "ipython3",
   "version": "3.8.10"
  }
 },
 "nbformat": 4,
 "nbformat_minor": 5
}
